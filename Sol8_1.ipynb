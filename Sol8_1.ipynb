#Linear regression model using scikit learn in boston data to predict 'Price' based on other dependent variable.

import numpy as np
import pandas as pd
import scipy.stats as stats
import matplotlib.pyplot as plt
import sklearn
from sklearn.datasets import load_boston

# follow the usual sklearn pattern: import, instantiate, fit
from sklearn.linear_model import LinearRegression

# To temporaly set expand_frame_repr, to avoid the wrap around of data set
pd.set_option('expand_frame_repr', False)

# Load the boston data
boston = load_boston()
bos = pd.DataFrame(boston.data)
# Assign the column names with feature names
bos.columns=boston.feature_names

# Add Price column which is same as target column
bos["Price"] = boston.target

# Simply Printing the Data head
print("DataSet head:")
print('________________________________________________________________________________________________')
print(bos.head())

X = bos[boston.feature_names]
y = bos.Price

# Using LinearRegression, Pridict intercept and Coefficients
lm = LinearRegression()
lm.fit(X, y)

# Print the calculated Intercepts and Coefficients
print('________________________________________________________________________________________________')
print("Estimeted intercept cofficient : {}".format(lm.intercept_))
print("Number of Coefficients: {}".format(len(lm.coef_)))
print("List of cofficents :")

# Printing the list of Coefficients
idx = 0
print('        _________________________________')
print("        {:8} : {}".format("Feature","Coefficients"))
print('        _________________________________')
for val in lm.coef_:
    print("        a{:8} = {}".format(boston.feature_names[idx],val))
    idx+=1
